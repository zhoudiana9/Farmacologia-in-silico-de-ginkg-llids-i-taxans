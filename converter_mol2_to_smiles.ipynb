{
  "nbformat": 4,
  "nbformat_minor": 0,
  "metadata": {
    "colab": {
      "provenance": [],
      "authorship_tag": "ABX9TyN2PjoFoTLrQTJK6uJa5LyX",
      "include_colab_link": true
    },
    "kernelspec": {
      "name": "python3",
      "display_name": "Python 3"
    },
    "language_info": {
      "name": "python"
    }
  },
  "cells": [
    {
      "cell_type": "markdown",
      "metadata": {
        "id": "view-in-github",
        "colab_type": "text"
      },
      "source": [
        "<a href=\"https://colab.research.google.com/github/zhoudiana9/Farmacologia-in-silico-de-ginkgolids-i-taxans/blob/main/converter_mol2_to_smiles.ipynb\" target=\"_parent\"><img src=\"https://colab.research.google.com/assets/colab-badge.svg\" alt=\"Open In Colab\"/></a>"
      ]
    },
    {
      "cell_type": "code",
      "execution_count": null,
      "metadata": {
        "id": "SoaHd3xgeWho"
      },
      "outputs": [],
      "source": [
        "# Step 1: Install Open Babel\n",
        "!apt-get install -y openbabel\n",
        "\n",
        "# Step 2: Upload the MOL2 file\n",
        "from google.colab import files\n",
        "\n",
        "uploaded = files.upload()\n",
        "\n",
        "# Assuming the file is named 'molecule.mol2'\n",
        "mol2_filename = next(iter(uploaded.keys()))\n",
        "\n",
        "# Step 3: Convert MOL2 to SMILES using Open Babel\n",
        "import subprocess\n",
        "\n",
        "# Convert MOL2 to SMILES\n",
        "result = subprocess.run(['obabel', mol2_filename, '-O', 'output.smi'], capture_output=True, text=True)\n",
        "\n",
        "# Check if conversion was successful\n",
        "if result.returncode == 0:\n",
        "    # Read the generated SMILES file\n",
        "    with open('output.smi', 'r') as f:\n",
        "        smiles = f.read().strip()\n",
        "    print(\"SMILES:\", smiles)\n",
        "else:\n",
        "    print(\"Conversion failed. Check if Open Babel is correctly installed and the MOL2 file is valid.\")"
      ]
    }
  ]
}